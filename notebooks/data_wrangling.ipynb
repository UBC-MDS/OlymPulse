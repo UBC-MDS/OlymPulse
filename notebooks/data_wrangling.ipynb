{
 "cells": [
  {
   "cell_type": "code",
   "execution_count": 15,
   "metadata": {
    "vscode": {
     "languageId": "r"
    }
   },
   "outputs": [],
   "source": [
    "# Loading libraries\n",
    "library(tidyverse)"
   ]
  },
  {
   "cell_type": "code",
   "execution_count": 16,
   "metadata": {
    "vscode": {
     "languageId": "r"
    }
   },
   "outputs": [
    {
     "name": "stdout",
     "output_type": "stream",
     "text": [
      "Data set contains 271116 rows."
     ]
    }
   ],
   "source": [
    "# Reading the data\n",
    "olympic_data <- read.csv('https://raw.githubusercontent.com/rfordatascience/tidytuesday/master/data/2021/2021-07-27/olympics.csv')\n",
    "\n",
    "cat('Data set contains', nrow(olympic_data), 'rows.') "
   ]
  },
  {
   "cell_type": "code",
   "execution_count": 17,
   "metadata": {
    "vscode": {
     "languageId": "r"
    }
   },
   "outputs": [
    {
     "name": "stdout",
     "output_type": "stream",
     "text": [
      "Data set contains 39783 medal winners."
     ]
    }
   ],
   "source": [
    "# filtering medal winners\n",
    "olympic_winners <- olympic_data |> \n",
    "    drop_na(medal)\n",
    "    \n",
    "cat('Data set contains', nrow(olympic_winners), 'medal winners.') "
   ]
  },
  {
   "cell_type": "code",
   "execution_count": 18,
   "metadata": {
    "vscode": {
     "languageId": "r"
    }
   },
   "outputs": [
    {
     "name": "stdout",
     "output_type": "stream",
     "text": [
      "Data set contains 34088 summer olympics medal winners."
     ]
    }
   ],
   "source": [
    "# Summer winners count\n",
    "summer_olympics_winners <- olympic_winners |> \n",
    "    tibble(unsplit = games) |>  \n",
    "    separate(unsplit, into = c(\"games_year\", \"games_season\"), sep = \" \") |> \n",
    "    filter(games_season == 'Summer')\n",
    "\n",
    "cat('Data set contains', nrow(summer_olympics_winners), 'summer olympics medal winners.') \n",
    "\n"
   ]
  },
  {
   "cell_type": "code",
   "execution_count": 27,
   "metadata": {
    "vscode": {
     "languageId": "r"
    }
   },
   "outputs": [
    {
     "data": {
      "text/html": [
       "<table class=\"dataframe\">\n",
       "<caption>A tibble: 5 × 17</caption>\n",
       "<thead>\n",
       "\t<tr><th scope=col>id</th><th scope=col>name</th><th scope=col>sex</th><th scope=col>age</th><th scope=col>height</th><th scope=col>weight</th><th scope=col>team</th><th scope=col>noc</th><th scope=col>games</th><th scope=col>year</th><th scope=col>season</th><th scope=col>city</th><th scope=col>sport</th><th scope=col>event</th><th scope=col>medal</th><th scope=col>games_year</th><th scope=col>games_season</th></tr>\n",
       "\t<tr><th scope=col>&lt;int&gt;</th><th scope=col>&lt;chr&gt;</th><th scope=col>&lt;chr&gt;</th><th scope=col>&lt;int&gt;</th><th scope=col>&lt;int&gt;</th><th scope=col>&lt;dbl&gt;</th><th scope=col>&lt;chr&gt;</th><th scope=col>&lt;chr&gt;</th><th scope=col>&lt;chr&gt;</th><th scope=col>&lt;int&gt;</th><th scope=col>&lt;chr&gt;</th><th scope=col>&lt;chr&gt;</th><th scope=col>&lt;chr&gt;</th><th scope=col>&lt;chr&gt;</th><th scope=col>&lt;chr&gt;</th><th scope=col>&lt;chr&gt;</th><th scope=col>&lt;chr&gt;</th></tr>\n",
       "</thead>\n",
       "<tbody>\n",
       "\t<tr><td> 4</td><td>Edgar Lindenau Aabye    </td><td>M</td><td>34</td><td> NA</td><td>NA</td><td>Denmark/Sweden</td><td>DEN</td><td>1900 Summer</td><td>1900</td><td>Summer</td><td>Paris    </td><td>Tug-Of-War</td><td>Tug-Of-War Men's Tug-Of-War           </td><td>Gold  </td><td>1900</td><td>Summer</td></tr>\n",
       "\t<tr><td>15</td><td>Arvo Ossian Aaltonen    </td><td>M</td><td>30</td><td> NA</td><td>NA</td><td>Finland       </td><td>FIN</td><td>1920 Summer</td><td>1920</td><td>Summer</td><td>Antwerpen</td><td>Swimming  </td><td>Swimming Men's 200 metres Breaststroke</td><td>Bronze</td><td>1920</td><td>Summer</td></tr>\n",
       "\t<tr><td>15</td><td>Arvo Ossian Aaltonen    </td><td>M</td><td>30</td><td> NA</td><td>NA</td><td>Finland       </td><td>FIN</td><td>1920 Summer</td><td>1920</td><td>Summer</td><td>Antwerpen</td><td>Swimming  </td><td>Swimming Men's 400 metres Breaststroke</td><td>Bronze</td><td>1920</td><td>Summer</td></tr>\n",
       "\t<tr><td>16</td><td>Juhamatti Tapio Aaltonen</td><td>M</td><td>28</td><td>184</td><td>85</td><td>Finland       </td><td>FIN</td><td>2014 Winter</td><td>2014</td><td>Winter</td><td>Sochi    </td><td>Ice Hockey</td><td>Ice Hockey Men's Ice Hockey           </td><td>Bronze</td><td>2014</td><td>Winter</td></tr>\n",
       "\t<tr><td>17</td><td>Paavo Johannes Aaltonen </td><td>M</td><td>28</td><td>175</td><td>64</td><td>Finland       </td><td>FIN</td><td>1948 Summer</td><td>1948</td><td>Summer</td><td>London   </td><td>Gymnastics</td><td>Gymnastics Men's Individual All-Around</td><td>Bronze</td><td>1948</td><td>Summer</td></tr>\n",
       "</tbody>\n",
       "</table>\n"
      ],
      "text/latex": [
       "A tibble: 5 × 17\n",
       "\\begin{tabular}{lllllllllllllllll}\n",
       " id & name & sex & age & height & weight & team & noc & games & year & season & city & sport & event & medal & games\\_year & games\\_season\\\\\n",
       " <int> & <chr> & <chr> & <int> & <int> & <dbl> & <chr> & <chr> & <chr> & <int> & <chr> & <chr> & <chr> & <chr> & <chr> & <chr> & <chr>\\\\\n",
       "\\hline\n",
       "\t  4 & Edgar Lindenau Aabye     & M & 34 &  NA & NA & Denmark/Sweden & DEN & 1900 Summer & 1900 & Summer & Paris     & Tug-Of-War & Tug-Of-War Men's Tug-Of-War            & Gold   & 1900 & Summer\\\\\n",
       "\t 15 & Arvo Ossian Aaltonen     & M & 30 &  NA & NA & Finland        & FIN & 1920 Summer & 1920 & Summer & Antwerpen & Swimming   & Swimming Men's 200 metres Breaststroke & Bronze & 1920 & Summer\\\\\n",
       "\t 15 & Arvo Ossian Aaltonen     & M & 30 &  NA & NA & Finland        & FIN & 1920 Summer & 1920 & Summer & Antwerpen & Swimming   & Swimming Men's 400 metres Breaststroke & Bronze & 1920 & Summer\\\\\n",
       "\t 16 & Juhamatti Tapio Aaltonen & M & 28 & 184 & 85 & Finland        & FIN & 2014 Winter & 2014 & Winter & Sochi     & Ice Hockey & Ice Hockey Men's Ice Hockey            & Bronze & 2014 & Winter\\\\\n",
       "\t 17 & Paavo Johannes Aaltonen  & M & 28 & 175 & 64 & Finland        & FIN & 1948 Summer & 1948 & Summer & London    & Gymnastics & Gymnastics Men's Individual All-Around & Bronze & 1948 & Summer\\\\\n",
       "\\end{tabular}\n"
      ],
      "text/markdown": [
       "\n",
       "A tibble: 5 × 17\n",
       "\n",
       "| id &lt;int&gt; | name &lt;chr&gt; | sex &lt;chr&gt; | age &lt;int&gt; | height &lt;int&gt; | weight &lt;dbl&gt; | team &lt;chr&gt; | noc &lt;chr&gt; | games &lt;chr&gt; | year &lt;int&gt; | season &lt;chr&gt; | city &lt;chr&gt; | sport &lt;chr&gt; | event &lt;chr&gt; | medal &lt;chr&gt; | games_year &lt;chr&gt; | games_season &lt;chr&gt; |\n",
       "|---|---|---|---|---|---|---|---|---|---|---|---|---|---|---|---|---|\n",
       "|  4 | Edgar Lindenau Aabye     | M | 34 |  NA | NA | Denmark/Sweden | DEN | 1900 Summer | 1900 | Summer | Paris     | Tug-Of-War | Tug-Of-War Men's Tug-Of-War            | Gold   | 1900 | Summer |\n",
       "| 15 | Arvo Ossian Aaltonen     | M | 30 |  NA | NA | Finland        | FIN | 1920 Summer | 1920 | Summer | Antwerpen | Swimming   | Swimming Men's 200 metres Breaststroke | Bronze | 1920 | Summer |\n",
       "| 15 | Arvo Ossian Aaltonen     | M | 30 |  NA | NA | Finland        | FIN | 1920 Summer | 1920 | Summer | Antwerpen | Swimming   | Swimming Men's 400 metres Breaststroke | Bronze | 1920 | Summer |\n",
       "| 16 | Juhamatti Tapio Aaltonen | M | 28 | 184 | 85 | Finland        | FIN | 2014 Winter | 2014 | Winter | Sochi     | Ice Hockey | Ice Hockey Men's Ice Hockey            | Bronze | 2014 | Winter |\n",
       "| 17 | Paavo Johannes Aaltonen  | M | 28 | 175 | 64 | Finland        | FIN | 1948 Summer | 1948 | Summer | London    | Gymnastics | Gymnastics Men's Individual All-Around | Bronze | 1948 | Summer |\n",
       "\n"
      ],
      "text/plain": [
       "  id name                     sex age height weight team           noc\n",
       "1  4 Edgar Lindenau Aabye     M   34   NA    NA     Denmark/Sweden DEN\n",
       "2 15 Arvo Ossian Aaltonen     M   30   NA    NA     Finland        FIN\n",
       "3 15 Arvo Ossian Aaltonen     M   30   NA    NA     Finland        FIN\n",
       "4 16 Juhamatti Tapio Aaltonen M   28  184    85     Finland        FIN\n",
       "5 17 Paavo Johannes Aaltonen  M   28  175    64     Finland        FIN\n",
       "  games       year season city      sport     \n",
       "1 1900 Summer 1900 Summer Paris     Tug-Of-War\n",
       "2 1920 Summer 1920 Summer Antwerpen Swimming  \n",
       "3 1920 Summer 1920 Summer Antwerpen Swimming  \n",
       "4 2014 Winter 2014 Winter Sochi     Ice Hockey\n",
       "5 1948 Summer 1948 Summer London    Gymnastics\n",
       "  event                                  medal  games_year games_season\n",
       "1 Tug-Of-War Men's Tug-Of-War            Gold   1900       Summer      \n",
       "2 Swimming Men's 200 metres Breaststroke Bronze 1920       Summer      \n",
       "3 Swimming Men's 400 metres Breaststroke Bronze 1920       Summer      \n",
       "4 Ice Hockey Men's Ice Hockey            Bronze 2014       Winter      \n",
       "5 Gymnastics Men's Individual All-Around Bronze 1948       Summer      "
      ]
     },
     "metadata": {},
     "output_type": "display_data"
    },
    {
     "name": "stdout",
     "output_type": "stream",
     "text": [
      "Final data set contains 39783 rows."
     ]
    }
   ],
   "source": [
    "# Data set to create dashboard including both summer and winter olympics\n",
    "# games column is splitted so it will be easier to filter summer/olympics games\n",
    "olympic_winners <- olympic_winners |> \n",
    "    tibble(unsplit = games) |>  \n",
    "    separate(unsplit, into = c(\"games_year\", \"games_season\"), sep = \" \") \n",
    "\n",
    "head(olympic_winners, 5)\n",
    "cat('Final data set contains', nrow(olympic_winners), 'rows.') "
   ]
  },
  {
   "cell_type": "code",
   "execution_count": 28,
   "metadata": {
    "vscode": {
     "languageId": "r"
    }
   },
   "outputs": [
    {
     "name": "stdout",
     "output_type": "stream",
     "text": [
      "tibble [39,783 × 17] (S3: tbl_df/tbl/data.frame)\n",
      " $ id          : int [1:39783] 4 15 15 16 17 17 17 17 17 20 ...\n",
      " $ name        : chr [1:39783] \"Edgar Lindenau Aabye\" \"Arvo Ossian Aaltonen\" \"Arvo Ossian Aaltonen\" \"Juhamatti Tapio Aaltonen\" ...\n",
      " $ sex         : chr [1:39783] \"M\" \"M\" \"M\" \"M\" ...\n",
      " $ age         : int [1:39783] 34 30 30 28 28 28 28 28 32 20 ...\n",
      " $ height      : int [1:39783] NA NA NA 184 175 175 175 175 175 176 ...\n",
      " $ weight      : num [1:39783] NA NA NA 85 64 64 64 64 64 85 ...\n",
      " $ team        : chr [1:39783] \"Denmark/Sweden\" \"Finland\" \"Finland\" \"Finland\" ...\n",
      " $ noc         : chr [1:39783] \"DEN\" \"FIN\" \"FIN\" \"FIN\" ...\n",
      " $ games       : chr [1:39783] \"1900 Summer\" \"1920 Summer\" \"1920 Summer\" \"2014 Winter\" ...\n",
      " $ year        : int [1:39783] 1900 1920 1920 2014 1948 1948 1948 1948 1952 1992 ...\n",
      " $ season      : chr [1:39783] \"Summer\" \"Summer\" \"Summer\" \"Winter\" ...\n",
      " $ city        : chr [1:39783] \"Paris\" \"Antwerpen\" \"Antwerpen\" \"Sochi\" ...\n",
      " $ sport       : chr [1:39783] \"Tug-Of-War\" \"Swimming\" \"Swimming\" \"Ice Hockey\" ...\n",
      " $ event       : chr [1:39783] \"Tug-Of-War Men's Tug-Of-War\" \"Swimming Men's 200 metres Breaststroke\" \"Swimming Men's 400 metres Breaststroke\" \"Ice Hockey Men's Ice Hockey\" ...\n",
      " $ medal       : chr [1:39783] \"Gold\" \"Bronze\" \"Bronze\" \"Bronze\" ...\n",
      " $ games_year  : chr [1:39783] \"1900\" \"1920\" \"1920\" \"2014\" ...\n",
      " $ games_season: chr [1:39783] \"Summer\" \"Summer\" \"Summer\" \"Winter\" ...\n"
     ]
    }
   ],
   "source": [
    "str(olympic_winners)"
   ]
  }
 ],
 "metadata": {
  "kernelspec": {
   "display_name": "R",
   "language": "R",
   "name": "ir"
  },
  "language_info": {
   "codemirror_mode": "r",
   "file_extension": ".r",
   "mimetype": "text/x-r-source",
   "name": "R",
   "pygments_lexer": "r",
   "version": "4.2.2"
  },
  "orig_nbformat": 4
 },
 "nbformat": 4,
 "nbformat_minor": 2
}
